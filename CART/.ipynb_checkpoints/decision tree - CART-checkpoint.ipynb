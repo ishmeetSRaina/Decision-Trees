{
 "cells": [
  {
   "cell_type": "code",
   "execution_count": 2,
   "metadata": {
    "collapsed": false
   },
   "outputs": [],
   "source": [
    "from sklearn import tree\n",
    "from sklearn.model_selection import train_test_split\n",
    "import pandas as pd\n",
    "import math\n",
    "import numpy as np\n",
    "import networkx as nx\n",
    "import matplotlib.pyplot as plt"
   ]
  },
  {
   "cell_type": "markdown",
   "metadata": {},
   "source": [
    "# CART Algo"
   ]
  },
  {
   "cell_type": "code",
   "execution_count": 95,
   "metadata": {
    "collapsed": false
   },
   "outputs": [],
   "source": [
    "treeGraph = nx.Graph()"
   ]
  },
  {
   "cell_type": "code",
   "execution_count": 4,
   "metadata": {
    "collapsed": true
   },
   "outputs": [],
   "source": [
    "def new_node(node):\n",
    "    global treeGraph\n",
    "    if node not in treeGraph.nodes():\n",
    "        treeGraph.add_node(node)\n",
    "        print(\"\\nadding \", node , \"as new node\\n\")"
   ]
  },
  {
   "cell_type": "code",
   "execution_count": 5,
   "metadata": {
    "collapsed": true
   },
   "outputs": [],
   "source": [
    "def new_edge(node1,node2):\n",
    "    global treeGraph\n",
    "    treeGraph.add_edge(node1,node2)\n",
    "    print(\"\\nadding edge\", node1 , \" --> \", node2)"
   ]
  },
  {
   "cell_type": "code",
   "execution_count": 6,
   "metadata": {
    "collapsed": true
   },
   "outputs": [],
   "source": [
    "def most_freq_value(data,attr):\n",
    "    return data[attr].describe()[\"top\"]\n",
    "    "
   ]
  },
  {
   "cell_type": "code",
   "execution_count": 7,
   "metadata": {
    "collapsed": true
   },
   "outputs": [],
   "source": [
    "def gini_calc(data,targetAttribute):\n",
    "    \n",
    "    totalPop = len(data[targetAttribute])\n",
    "    prob = data[targetAttribute].value_counts()/totalPop\n",
    "    gini = prob.map(lambda x : x*x*math.log2(x)).sum()\n",
    "    \n",
    "    \n",
    "    # returning entropy\n",
    "    return gini,totalPop\n",
    "    "
   ]
  },
  {
   "cell_type": "code",
   "execution_count": 8,
   "metadata": {
    "collapsed": true
   },
   "outputs": [],
   "source": [
    "def gini(data,targetAttribute,feature):\n",
    "    \"\"\"returns the info gain\"\"\"\n",
    "    childNodes = data[feature].unique()\n",
    "    childGini = {}\n",
    "    splitGini = 0\n",
    "    #calculate entropy of parent node\n",
    "    #parentEntropy,parentPop = entropy_calc(data,targetAttribute)\n",
    "    parentPop = len(data[targetAttribute])\n",
    "    #calculate gini of each child\n",
    "    for child in childNodes:\n",
    "        childData = data[data[feature]==child]\n",
    "        childGini[child] = gini_calc(childData,targetAttribute)\n",
    "    \n",
    "    # calculating gini of the split\n",
    "    for child2 in childGini.keys():\n",
    "        splitGini += (childGini[child2][0]*childGini[child2][1]/parentPop)\n",
    "    \n",
    "    return splitGini\n",
    "        \n",
    "    "
   ]
  },
  {
   "cell_type": "code",
   "execution_count": 9,
   "metadata": {
    "collapsed": true
   },
   "outputs": [],
   "source": [
    "def best_attribute_func(data,targetAttribute,attributes,choice_func):\n",
    "    # for all possible splits/attributes calculate the metric given by the choice function.\n",
    "    metric = {}\n",
    "    for feature in attributes:\n",
    "        metric[choice_func(data,targetAttribute,feature)] = feature\n",
    "    \n",
    "    #return the feature with the highest value(gini)\n",
    "    return metric[sorted(metric,reverse=True)[0]]\n",
    "        \n",
    "    \n",
    "        \n",
    "    "
   ]
  },
  {
   "cell_type": "code",
   "execution_count": 10,
   "metadata": {
    "collapsed": false
   },
   "outputs": [],
   "source": [
    "def CART_classifier(data,targetAttribute,attributes,choice_func,last_node=\"root\"):\n",
    "    \"\"\"Returns a decision tree using CART algorithm \"\"\"\n",
    "    global treeGraph\n",
    "    data = data[:]\n",
    "    targetVals = data[targetAttribute]\n",
    "    \n",
    "    freqVals = most_freq_value(data,targetAttribute)\n",
    "    \n",
    "    \n",
    "    # Recursion Stop 1\n",
    "    # if dataset is empty or list of attributes is empty,\n",
    "    # return the most frequent values of the targetAttribute\n",
    "    if len(data)==0 or (len(attributes)-1) <= 0:\n",
    "        new_node(freqVals)\n",
    "        new_edge(last_node,freqVals)\n",
    "        return freqVals\n",
    "    \n",
    "    # Recursion Stop 2\n",
    "    # if all values have same classification,\n",
    "    # return the node root value\n",
    "    elif len(targetVals.unique()) == 1:\n",
    "        label = targetVals.unique()[0]\n",
    "        new_node(label)\n",
    "        new_edge(last_node,freqVals)\n",
    "        return label\n",
    "    \n",
    "    \n",
    "    #otherwise create a new decision tree :\n",
    "    \n",
    "    else :\n",
    "        # find the best attribute to split the data,\n",
    "        # on grounds of max info gain\n",
    "        bestAttr = best_attribute_func(data,targetAttribute,attributes,choice_func)\n",
    "        new_node(bestAttr)\n",
    "        new_edge(last_node,bestAttr)\n",
    "        \n",
    "        #adding node to the graph\n",
    "        \n",
    "        tree = {bestAttr : {}}\n",
    "        \n",
    "        # creating a decision tree/node for all unique values of the bestAttr\n",
    "        for value in data[bestAttr].unique():\n",
    "            print(\"\\n\",bestAttr,\"\\t\",value)\n",
    "            \n",
    "            \n",
    "            new_node(value)\n",
    "            new_edge(bestAttr,value)\n",
    "            last_node = value\n",
    "            \n",
    "            subtree = CART_classifier(data[data[bestAttr] == value],\\\n",
    "                          targetAttribute,\\\n",
    "                          attributes.difference([bestAttr]),\\\n",
    "                          choice_func,last_node)\n",
    "            print(\"Subtree : \\t\",subtree)\n",
    "            tree[bestAttr][value] = subtree\n",
    "           \n",
    "    return tree\n",
    "        \n",
    "    \n",
    "    \n",
    "    "
   ]
  },
  {
   "cell_type": "code",
   "execution_count": 115,
   "metadata": {
    "collapsed": true
   },
   "outputs": [],
   "source": [
    "def CART_classifier_fit(X_train,y_train):\n",
    "    \"\"\"CART_classifier(data,targetAttribute,attributes,choice_func=gini)\"\"\"\n",
    "    global treeGraph\n",
    "    treeGraph = nx.Graph()\n",
    "    data = pd.concat([X_train,y_train],axis=1)\n",
    "    return CART_classifier(data,targetAttribute=list(y_train.columns)[0],attributes=X_train.columns,choice_func=gini)\n",
    "    "
   ]
  },
  {
   "cell_type": "markdown",
   "metadata": {},
   "source": [
    "### loading data  and testing"
   ]
  },
  {
   "cell_type": "markdown",
   "metadata": {},
   "source": [
    "## <span style=\"color:blue\"> Test 1</span>"
   ]
  },
  {
   "cell_type": "code",
   "execution_count": 39,
   "metadata": {
    "collapsed": false
   },
   "outputs": [
    {
     "name": "stdout",
     "output_type": "stream",
     "text": [
      "data.csv  decision tree - CART.ipynb  README.md  \u001b[0m\u001b[01;32mtrain.csv\u001b[0m*\r\n"
     ]
    }
   ],
   "source": [
    "ls"
   ]
  },
  {
   "cell_type": "code",
   "execution_count": 65,
   "metadata": {
    "collapsed": true
   },
   "outputs": [],
   "source": [
    "df = pd.read_csv(\"data.csv\") #this is a small data set, better for an unoptimized tree algo"
   ]
  },
  {
   "cell_type": "code",
   "execution_count": 66,
   "metadata": {
    "collapsed": false
   },
   "outputs": [
    {
     "name": "stdout",
     "output_type": "stream",
     "text": [
      "<class 'pandas.core.frame.DataFrame'>\n",
      "RangeIndex: 20 entries, 0 to 19\n",
      "Data columns (total 5 columns):\n",
      "Age               20 non-null object\n",
      "Education         20 non-null object\n",
      "Income            20 non-null object\n",
      "Marital Status    20 non-null object\n",
      "Purchase?         20 non-null object\n",
      "dtypes: object(5)\n",
      "memory usage: 880.0+ bytes\n"
     ]
    }
   ],
   "source": [
    "df.info()"
   ]
  },
  {
   "cell_type": "code",
   "execution_count": 67,
   "metadata": {
    "collapsed": false
   },
   "outputs": [
    {
     "data": {
      "text/html": [
       "<div>\n",
       "<table border=\"1\" class=\"dataframe\">\n",
       "  <thead>\n",
       "    <tr style=\"text-align: right;\">\n",
       "      <th></th>\n",
       "      <th>Age</th>\n",
       "      <th>Education</th>\n",
       "      <th>Income</th>\n",
       "      <th>Marital Status</th>\n",
       "      <th>Purchase?</th>\n",
       "    </tr>\n",
       "  </thead>\n",
       "  <tbody>\n",
       "    <tr>\n",
       "      <th>0</th>\n",
       "      <td>36-55</td>\n",
       "      <td>master's</td>\n",
       "      <td>high</td>\n",
       "      <td>single</td>\n",
       "      <td>will buy</td>\n",
       "    </tr>\n",
       "    <tr>\n",
       "      <th>1</th>\n",
       "      <td>18-35</td>\n",
       "      <td>high school</td>\n",
       "      <td>low</td>\n",
       "      <td>single</td>\n",
       "      <td>won't buy</td>\n",
       "    </tr>\n",
       "    <tr>\n",
       "      <th>2</th>\n",
       "      <td>36-55</td>\n",
       "      <td>master's</td>\n",
       "      <td>low</td>\n",
       "      <td>single</td>\n",
       "      <td>will buy</td>\n",
       "    </tr>\n",
       "  </tbody>\n",
       "</table>\n",
       "</div>"
      ],
      "text/plain": [
       "     Age    Education Income Marital Status  Purchase?\n",
       "0  36-55     master's   high         single   will buy\n",
       "1  18-35  high school    low         single  won't buy\n",
       "2  36-55     master's    low         single   will buy"
      ]
     },
     "execution_count": 67,
     "metadata": {},
     "output_type": "execute_result"
    }
   ],
   "source": [
    "df.head(3)"
   ]
  },
  {
   "cell_type": "markdown",
   "metadata": {},
   "source": [
    "##### <span style=\"color:green\">for testing purposes we will use the age , Education , income  marital status, and convert purchase into a categorical variable based on the median</span>"
   ]
  },
  {
   "cell_type": "code",
   "execution_count": null,
   "metadata": {
    "collapsed": false
   },
   "outputs": [],
   "source": []
  },
  {
   "cell_type": "markdown",
   "metadata": {},
   "source": [
    "#### getting dummy codes for all "
   ]
  },
  {
   "cell_type": "code",
   "execution_count": 68,
   "metadata": {
    "collapsed": true
   },
   "outputs": [],
   "source": [
    "#id_var = [\"User_ID\"]\n",
    "target_var =[\"Purchase?\"]\n",
    "#drop_features = [\"Product_ID\",\"Product_Category_1\",\"Product_Category_2\",\"Product_Category_3\"]\n",
    "features = df.columns.difference(target_var)"
   ]
  },
  {
   "cell_type": "code",
   "execution_count": 69,
   "metadata": {
    "collapsed": false
   },
   "outputs": [
    {
     "data": {
      "text/plain": [
       "Index(['Age', 'Education', 'Income', 'Marital Status'], dtype='object')"
      ]
     },
     "execution_count": 69,
     "metadata": {},
     "output_type": "execute_result"
    }
   ],
   "source": [
    "features"
   ]
  },
  {
   "cell_type": "code",
   "execution_count": 74,
   "metadata": {
    "collapsed": false
   },
   "outputs": [],
   "source": [
    "# creating dummy codes for all categorical variables\n",
    "temp = pd.DataFrame()\n",
    "\n",
    "temp = pd.get_dummies(df[list(features)])\n",
    "\n",
    "# changing dummy values from 0,1 to column_category_value\n",
    "# changing these dummy values to the form of column_category_value \n",
    "# helps in creating separate nodes in the graph\n",
    "\n",
    "temp = temp.apply(lambda x : x.map(lambda y : x.name+\"_\"+str(y))) \n",
    "\n",
    "df = pd.concat([df,temp],axis=1)"
   ]
  },
  {
   "cell_type": "code",
   "execution_count": 18,
   "metadata": {
    "collapsed": false
   },
   "outputs": [
    {
     "data": {
      "text/html": [
       "<div>\n",
       "<table border=\"1\" class=\"dataframe\">\n",
       "  <thead>\n",
       "    <tr style=\"text-align: right;\">\n",
       "      <th></th>\n",
       "      <th>Age</th>\n",
       "      <th>Education</th>\n",
       "      <th>Income</th>\n",
       "      <th>Marital Status</th>\n",
       "      <th>Purchase?</th>\n",
       "      <th>Age_36-55</th>\n",
       "      <th>Age_18-35</th>\n",
       "      <th>Age_&lt; 18</th>\n",
       "      <th>Age_&gt; 55</th>\n",
       "      <th>Education_master's</th>\n",
       "      <th>Education_high school</th>\n",
       "      <th>Education_bachelor's</th>\n",
       "      <th>Income_high</th>\n",
       "      <th>Income_low</th>\n",
       "      <th>Marital Status_single</th>\n",
       "      <th>Marital Status_married</th>\n",
       "    </tr>\n",
       "  </thead>\n",
       "  <tbody>\n",
       "    <tr>\n",
       "      <th>0</th>\n",
       "      <td>36-55</td>\n",
       "      <td>master's</td>\n",
       "      <td>high</td>\n",
       "      <td>single</td>\n",
       "      <td>will buy</td>\n",
       "      <td>Age_36-55_0.0</td>\n",
       "      <td>Age_18-35_1.0</td>\n",
       "      <td>Age_&lt; 18_0.0</td>\n",
       "      <td>Age_&gt; 55_0.0</td>\n",
       "      <td>Education_master's_0.0</td>\n",
       "      <td>Education_high school_0.0</td>\n",
       "      <td>Education_bachelor's_1.0</td>\n",
       "      <td>Income_high_1.0</td>\n",
       "      <td>Income_low_0.0</td>\n",
       "      <td>Marital Status_single_0.0</td>\n",
       "      <td>Marital Status_married_1.0</td>\n",
       "    </tr>\n",
       "  </tbody>\n",
       "</table>\n",
       "</div>"
      ],
      "text/plain": [
       "     Age Education Income Marital Status Purchase?      Age_36-55  \\\n",
       "0  36-55  master's   high         single  will buy  Age_36-55_0.0   \n",
       "\n",
       "       Age_18-35      Age_< 18      Age_> 55      Education_master's  \\\n",
       "0  Age_18-35_1.0  Age_< 18_0.0  Age_> 55_0.0  Education_master's_0.0   \n",
       "\n",
       "       Education_high school      Education_bachelor's      Income_high  \\\n",
       "0  Education_high school_0.0  Education_bachelor's_1.0  Income_high_1.0   \n",
       "\n",
       "       Income_low      Marital Status_single      Marital Status_married  \n",
       "0  Income_low_0.0  Marital Status_single_0.0  Marital Status_married_1.0  "
      ]
     },
     "execution_count": 18,
     "metadata": {},
     "output_type": "execute_result"
    }
   ],
   "source": [
    "df.head(1)"
   ]
  },
  {
   "cell_type": "code",
   "execution_count": 75,
   "metadata": {
    "collapsed": true
   },
   "outputs": [],
   "source": [
    "# dropping the original columns"
   ]
  },
  {
   "cell_type": "code",
   "execution_count": 76,
   "metadata": {
    "collapsed": false
   },
   "outputs": [
    {
     "data": {
      "text/plain": [
       "['Age', 'Education', 'Income', 'Marital Status']"
      ]
     },
     "execution_count": 76,
     "metadata": {},
     "output_type": "execute_result"
    }
   ],
   "source": [
    "list(features)"
   ]
  },
  {
   "cell_type": "code",
   "execution_count": 77,
   "metadata": {
    "collapsed": true
   },
   "outputs": [],
   "source": [
    "df = df.drop(list(features),axis=1)"
   ]
  },
  {
   "cell_type": "code",
   "execution_count": 78,
   "metadata": {
    "collapsed": false
   },
   "outputs": [
    {
     "data": {
      "text/plain": [
       "Index(['Purchase?', 'Age_18-35', 'Age_36-55', 'Age_< 18', 'Age_> 55',\n",
       "       'Education_bachelor's', 'Education_high school', 'Education_master's',\n",
       "       'Income_high', 'Income_low', 'Marital Status_married',\n",
       "       'Marital Status_single'],\n",
       "      dtype='object')"
      ]
     },
     "execution_count": 78,
     "metadata": {},
     "output_type": "execute_result"
    }
   ],
   "source": [
    "df.columns"
   ]
  },
  {
   "cell_type": "code",
   "execution_count": 79,
   "metadata": {
    "collapsed": false
   },
   "outputs": [],
   "source": [
    "\n",
    "target_var =[\"Purchase?\"]\n",
    "features = df.columns.difference(target_var)"
   ]
  },
  {
   "cell_type": "code",
   "execution_count": 80,
   "metadata": {
    "collapsed": false
   },
   "outputs": [
    {
     "data": {
      "text/plain": [
       "Index(['Age_18-35', 'Age_36-55', 'Age_< 18', 'Age_> 55',\n",
       "       'Education_bachelor's', 'Education_high school', 'Education_master's',\n",
       "       'Income_high', 'Income_low', 'Marital Status_married',\n",
       "       'Marital Status_single'],\n",
       "      dtype='object')"
      ]
     },
     "execution_count": 80,
     "metadata": {},
     "output_type": "execute_result"
    }
   ],
   "source": [
    "features"
   ]
  },
  {
   "cell_type": "code",
   "execution_count": 81,
   "metadata": {
    "collapsed": false
   },
   "outputs": [],
   "source": [
    "X_train, X_test, y_train, y_test = train_test_split(df[features],df[target_var],test_size = 0.25)"
   ]
  },
  {
   "cell_type": "markdown",
   "metadata": {},
   "source": [
    "## <span style=\"color:green\"> this creates a decision tree in the form of a dictionary of dictionaries</span>\n",
    "* it also produces a graph of all connections in the decision tree"
   ]
  },
  {
   "cell_type": "code",
   "execution_count": 96,
   "metadata": {
    "collapsed": false,
    "scrolled": true
   },
   "outputs": [
    {
     "name": "stdout",
     "output_type": "stream",
     "text": [
      "\n",
      "adding  Marital Status_single as new node\n",
      "\n",
      "\n",
      "adding edge root  -->  Marital Status_single\n",
      "\n",
      " Marital Status_single \t Marital Status_single_0.0\n",
      "\n",
      "adding  Marital Status_single_0.0 as new node\n",
      "\n",
      "\n",
      "adding edge Marital Status_single  -->  Marital Status_single_0.0\n",
      "\n",
      "adding  Education_bachelor's as new node\n",
      "\n",
      "\n",
      "adding edge Marital Status_single_0.0  -->  Education_bachelor's\n",
      "\n",
      " Education_bachelor's \t Education_bachelor's_0.0\n",
      "\n",
      "adding  Education_bachelor's_0.0 as new node\n",
      "\n",
      "\n",
      "adding edge Education_bachelor's  -->  Education_bachelor's_0.0\n",
      "\n",
      "adding  Age_36-55 as new node\n",
      "\n",
      "\n",
      "adding edge Education_bachelor's_0.0  -->  Age_36-55\n",
      "\n",
      " Age_36-55 \t Age_36-55_1.0\n",
      "\n",
      "adding  Age_36-55_1.0 as new node\n",
      "\n",
      "\n",
      "adding edge Age_36-55  -->  Age_36-55_1.0\n",
      "\n",
      "adding  won't buy as new node\n",
      "\n",
      "\n",
      "adding edge Age_36-55_1.0  -->  won't buy\n",
      "Subtree : \t won't buy\n",
      "\n",
      " Age_36-55 \t Age_36-55_0.0\n",
      "\n",
      "adding  Age_36-55_0.0 as new node\n",
      "\n",
      "\n",
      "adding edge Age_36-55  -->  Age_36-55_0.0\n",
      "\n",
      "adding  will buy as new node\n",
      "\n",
      "\n",
      "adding edge Age_36-55_0.0  -->  will buy\n",
      "Subtree : \t will buy\n",
      "Subtree : \t {'Age_36-55': {'Age_36-55_0.0': 'will buy', 'Age_36-55_1.0': \"won't buy\"}}\n",
      "\n",
      " Education_bachelor's \t Education_bachelor's_1.0\n",
      "\n",
      "adding  Education_bachelor's_1.0 as new node\n",
      "\n",
      "\n",
      "adding edge Education_bachelor's  -->  Education_bachelor's_1.0\n",
      "\n",
      "adding edge Education_bachelor's_1.0  -->  won't buy\n",
      "Subtree : \t won't buy\n",
      "Subtree : \t {\"Education_bachelor's\": {\"Education_bachelor's_1.0\": \"won't buy\", \"Education_bachelor's_0.0\": {'Age_36-55': {'Age_36-55_0.0': 'will buy', 'Age_36-55_1.0': \"won't buy\"}}}}\n",
      "\n",
      " Marital Status_single \t Marital Status_single_1.0\n",
      "\n",
      "adding  Marital Status_single_1.0 as new node\n",
      "\n",
      "\n",
      "adding edge Marital Status_single  -->  Marital Status_single_1.0\n",
      "\n",
      "adding  Age_< 18 as new node\n",
      "\n",
      "\n",
      "adding edge Marital Status_single_1.0  -->  Age_< 18\n",
      "\n",
      " Age_< 18 \t Age_< 18_0.0\n",
      "\n",
      "adding  Age_< 18_0.0 as new node\n",
      "\n",
      "\n",
      "adding edge Age_< 18  -->  Age_< 18_0.0\n",
      "\n",
      "adding edge Age_< 18_0.0  -->  will buy\n",
      "Subtree : \t will buy\n",
      "\n",
      " Age_< 18 \t Age_< 18_1.0\n",
      "\n",
      "adding  Age_< 18_1.0 as new node\n",
      "\n",
      "\n",
      "adding edge Age_< 18  -->  Age_< 18_1.0\n",
      "\n",
      "adding  Income_low as new node\n",
      "\n",
      "\n",
      "adding edge Age_< 18_1.0  -->  Income_low\n",
      "\n",
      " Income_low \t Income_low_1.0\n",
      "\n",
      "adding  Income_low_1.0 as new node\n",
      "\n",
      "\n",
      "adding edge Income_low  -->  Income_low_1.0\n",
      "\n",
      "adding edge Income_low_1.0  -->  will buy\n",
      "Subtree : \t will buy\n",
      "\n",
      " Income_low \t Income_low_0.0\n",
      "\n",
      "adding  Income_low_0.0 as new node\n",
      "\n",
      "\n",
      "adding edge Income_low  -->  Income_low_0.0\n",
      "\n",
      "adding edge Income_low_0.0  -->  won't buy\n",
      "Subtree : \t won't buy\n",
      "Subtree : \t {'Income_low': {'Income_low_0.0': \"won't buy\", 'Income_low_1.0': 'will buy'}}\n",
      "Subtree : \t {'Age_< 18': {'Age_< 18_0.0': 'will buy', 'Age_< 18_1.0': {'Income_low': {'Income_low_0.0': \"won't buy\", 'Income_low_1.0': 'will buy'}}}}\n"
     ]
    }
   ],
   "source": [
    "CART_classifier_tree = CART_classifier_fit(X_train,y_train)"
   ]
  },
  {
   "cell_type": "markdown",
   "metadata": {},
   "source": [
    "## Drawing a graph"
   ]
  },
  {
   "cell_type": "code",
   "execution_count": 100,
   "metadata": {
    "collapsed": false
   },
   "outputs": [],
   "source": [
    "nodeNo = len(treeGraph.nodes())"
   ]
  },
  {
   "cell_type": "code",
   "execution_count": 116,
   "metadata": {
    "collapsed": false
   },
   "outputs": [
    {
     "data": {
      "text/plain": [
       "['Marital Status_single_0.0',\n",
       " 'Age_< 18_0.0',\n",
       " 'Marital Status_single_1.0',\n",
       " 'Age_< 18',\n",
       " 'Income_low',\n",
       " 'Age_36-55',\n",
       " 'Age_< 18_1.0',\n",
       " \"won't buy\",\n",
       " 'Age_36-55_1.0',\n",
       " 'root',\n",
       " \"Education_bachelor's_1.0\",\n",
       " 'Age_36-55_0.0',\n",
       " 'Income_low_1.0',\n",
       " \"Education_bachelor's\",\n",
       " 'Income_low_0.0',\n",
       " 'Marital Status_single',\n",
       " \"Education_bachelor's_0.0\",\n",
       " 'will buy']"
      ]
     },
     "execution_count": 116,
     "metadata": {},
     "output_type": "execute_result"
    }
   ],
   "source": [
    "treeGraph.nodes()"
   ]
  },
  {
   "cell_type": "code",
   "execution_count": 98,
   "metadata": {
    "collapsed": false
   },
   "outputs": [
    {
     "data": {
      "text/plain": [
       "[('Marital Status_single_0.0', 'Marital Status_single'),\n",
       " ('Marital Status_single_0.0', \"Education_bachelor's\"),\n",
       " ('Age_< 18_0.0', 'Age_< 18'),\n",
       " ('Age_< 18_0.0', 'will buy'),\n",
       " ('Marital Status_single_1.0', 'Age_< 18'),\n",
       " ('Marital Status_single_1.0', 'Marital Status_single'),\n",
       " ('Age_< 18', 'Age_< 18_1.0'),\n",
       " ('Income_low', 'Income_low_0.0'),\n",
       " ('Income_low', 'Age_< 18_1.0'),\n",
       " ('Income_low', 'Income_low_1.0'),\n",
       " ('Age_36-55', 'Age_36-55_0.0'),\n",
       " ('Age_36-55', \"Education_bachelor's_0.0\"),\n",
       " ('Age_36-55', 'Age_36-55_1.0'),\n",
       " (\"won't buy\", 'Income_low_0.0'),\n",
       " (\"won't buy\", \"Education_bachelor's_1.0\"),\n",
       " (\"won't buy\", 'Age_36-55_1.0'),\n",
       " ('root', 'Marital Status_single'),\n",
       " (\"Education_bachelor's_1.0\", \"Education_bachelor's\"),\n",
       " ('Age_36-55_0.0', 'will buy'),\n",
       " ('Income_low_1.0', 'will buy'),\n",
       " (\"Education_bachelor's\", \"Education_bachelor's_0.0\")]"
      ]
     },
     "execution_count": 98,
     "metadata": {},
     "output_type": "execute_result"
    }
   ],
   "source": [
    "treeGraph.edges()\n"
   ]
  },
  {
   "cell_type": "code",
   "execution_count": 117,
   "metadata": {
    "collapsed": false
   },
   "outputs": [
    {
     "data": {
      "image/png": "[encoded data removed]",
      "text/plain": [
       "<matplotlib.figure.Figure at 0x7f2ddc971c18>"
      ]
     },
     "metadata": {},
     "output_type": "display_data"
    }
   ],
   "source": [
    "nx.draw_spring(treeGraph,with_labels=True,node_color = range(nodeNo),cmap = plt.cm.Oranges,node_size =800)\n",
    "plt.show()"
   ]
  },
  {
   "cell_type": "code",
   "execution_count": null,
   "metadata": {
    "collapsed": true
   },
   "outputs": [],
   "source": []
  }
 ],
 "metadata": {
  "anaconda-cloud": {},
  "kernelspec": {
   "display_name": "Python [conda root]",
   "language": "python",
   "name": "conda-root-py"
  },
  "language_info": {
   "codemirror_mode": {
    "name": "ipython",
    "version": 3
   },
   "file_extension": ".py",
   "mimetype": "text/x-python",
   "name": "python",
   "nbconvert_exporter": "python",
   "pygments_lexer": "ipython3",
   "version": "3.5.2"
  }
 },
 "nbformat": 4,
 "nbformat_minor": 1
}
